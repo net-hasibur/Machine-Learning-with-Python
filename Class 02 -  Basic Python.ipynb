{
 "cells": [
  {
   "cell_type": "markdown",
   "id": "c0735ac2",
   "metadata": {},
   "source": [
    "# I/O Functions"
   ]
  },
  {
   "cell_type": "code",
   "execution_count": 1,
   "id": "00c10d63",
   "metadata": {},
   "outputs": [
    {
     "name": "stdout",
     "output_type": "stream",
     "text": [
      "40\n"
     ]
    }
   ],
   "source": [
    "print(10+30)"
   ]
  },
  {
   "cell_type": "code",
   "execution_count": 5,
   "id": "859e79b1",
   "metadata": {},
   "outputs": [
    {
     "name": "stdout",
     "output_type": "stream",
     "text": [
      "data+sciecne||"
     ]
    }
   ],
   "source": [
    "print('data','sciecne',sep='+',end='||')"
   ]
  },
  {
   "cell_type": "code",
   "execution_count": 2,
   "id": "0fdcf488",
   "metadata": {
    "scrolled": true
   },
   "outputs": [
    {
     "name": "stdout",
     "output_type": "stream",
     "text": [
      "data + science || 30\n"
     ]
    }
   ],
   "source": [
    "print('data', 'science', end=' || ', sep=' + ') #shift+tab\n",
    "print(30)"
   ]
  },
  {
   "cell_type": "code",
   "execution_count": 3,
   "id": "52cbca74",
   "metadata": {},
   "outputs": [
    {
     "name": "stdout",
     "output_type": "stream",
     "text": [
      "data -science\n"
     ]
    }
   ],
   "source": [
    "print('data','science',sep=' -')"
   ]
  },
  {
   "cell_type": "code",
   "execution_count": 6,
   "id": "9ffd67ea",
   "metadata": {},
   "outputs": [
    {
     "name": "stdout",
     "output_type": "stream",
     "text": [
      "1st = 40\n",
      "2nd = 50\n",
      "90\n"
     ]
    }
   ],
   "source": [
    "x = int(input('1st = '))\n",
    "y = int(input('2nd = '))\n",
    "print(x+y)"
   ]
  },
  {
   "cell_type": "code",
   "execution_count": 7,
   "id": "889432bb",
   "metadata": {},
   "outputs": [
    {
     "data": {
      "text/plain": [
       "int"
      ]
     },
     "execution_count": 7,
     "metadata": {},
     "output_type": "execute_result"
    }
   ],
   "source": [
    "type(x+y)"
   ]
  },
  {
   "cell_type": "code",
   "execution_count": 15,
   "id": "613bfcb9",
   "metadata": {},
   "outputs": [],
   "source": [
    "num = 10"
   ]
  },
  {
   "cell_type": "code",
   "execution_count": 16,
   "id": "dbdb2779",
   "metadata": {},
   "outputs": [
    {
     "data": {
      "text/plain": [
       "10"
      ]
     },
     "execution_count": 16,
     "metadata": {},
     "output_type": "execute_result"
    }
   ],
   "source": [
    "num"
   ]
  },
  {
   "cell_type": "code",
   "execution_count": 17,
   "id": "ec85022e",
   "metadata": {},
   "outputs": [
    {
     "ename": "SyntaxError",
     "evalue": "invalid syntax (1972592647.py, line 1)",
     "output_type": "error",
     "traceback": [
      "\u001b[1;36m  File \u001b[1;32m\"C:\\Users\\rashe\\AppData\\Local\\Temp\\ipykernel_4424\\1972592647.py\"\u001b[1;36m, line \u001b[1;32m1\u001b[0m\n\u001b[1;33m    1num = 10\u001b[0m\n\u001b[1;37m     ^\u001b[0m\n\u001b[1;31mSyntaxError\u001b[0m\u001b[1;31m:\u001b[0m invalid syntax\n"
     ]
    }
   ],
   "source": [
    "1num = 10"
   ]
  },
  {
   "cell_type": "code",
   "execution_count": 18,
   "id": "c2d4fdd7",
   "metadata": {},
   "outputs": [
    {
     "ename": "SyntaxError",
     "evalue": "cannot assign to operator (2692561393.py, line 1)",
     "output_type": "error",
     "traceback": [
      "\u001b[1;36m  File \u001b[1;32m\"C:\\Users\\rashe\\AppData\\Local\\Temp\\ipykernel_4424\\2692561393.py\"\u001b[1;36m, line \u001b[1;32m1\u001b[0m\n\u001b[1;33m    num-1 = 10\u001b[0m\n\u001b[1;37m    ^\u001b[0m\n\u001b[1;31mSyntaxError\u001b[0m\u001b[1;31m:\u001b[0m cannot assign to operator\n"
     ]
    }
   ],
   "source": [
    "num-1 = 10"
   ]
  },
  {
   "cell_type": "code",
   "execution_count": 19,
   "id": "d6b4ceef",
   "metadata": {},
   "outputs": [],
   "source": [
    "num_1 = 10"
   ]
  },
  {
   "cell_type": "code",
   "execution_count": 20,
   "id": "dbfc0417",
   "metadata": {},
   "outputs": [
    {
     "data": {
      "text/plain": [
       "10"
      ]
     },
     "execution_count": 20,
     "metadata": {},
     "output_type": "execute_result"
    }
   ],
   "source": [
    "num_1"
   ]
  },
  {
   "cell_type": "code",
   "execution_count": 21,
   "id": "3adbdab9",
   "metadata": {},
   "outputs": [
    {
     "ename": "SyntaxError",
     "evalue": "invalid syntax (1357037081.py, line 1)",
     "output_type": "error",
     "traceback": [
      "\u001b[1;36m  File \u001b[1;32m\"C:\\Users\\rashe\\AppData\\Local\\Temp\\ipykernel_4424\\1357037081.py\"\u001b[1;36m, line \u001b[1;32m1\u001b[0m\n\u001b[1;33m    num& = 10\u001b[0m\n\u001b[1;37m         ^\u001b[0m\n\u001b[1;31mSyntaxError\u001b[0m\u001b[1;31m:\u001b[0m invalid syntax\n"
     ]
    }
   ],
   "source": [
    "num& = 10"
   ]
  },
  {
   "cell_type": "code",
   "execution_count": 23,
   "id": "772568d5",
   "metadata": {},
   "outputs": [],
   "source": [
    "X = 50"
   ]
  },
  {
   "cell_type": "code",
   "execution_count": 24,
   "id": "181513a6",
   "metadata": {},
   "outputs": [
    {
     "ename": "NameError",
     "evalue": "name 'num_' is not defined",
     "output_type": "error",
     "traceback": [
      "\u001b[1;31m---------------------------------------------------------------------------\u001b[0m",
      "\u001b[1;31mNameError\u001b[0m                                 Traceback (most recent call last)",
      "\u001b[1;32m~\\AppData\\Local\\Temp\\ipykernel_4424\\746294083.py\u001b[0m in \u001b[0;36m<module>\u001b[1;34m\u001b[0m\n\u001b[1;32m----> 1\u001b[1;33m \u001b[0mnum_\u001b[0m\u001b[1;33m*=\u001b[0m\u001b[1;36m10\u001b[0m\u001b[1;33m\u001b[0m\u001b[1;33m\u001b[0m\u001b[0m\n\u001b[0m",
      "\u001b[1;31mNameError\u001b[0m: name 'num_' is not defined"
     ]
    }
   ],
   "source": [
    "num_*=10"
   ]
  },
  {
   "cell_type": "code",
   "execution_count": 25,
   "id": "e6f44e2d",
   "metadata": {},
   "outputs": [
    {
     "name": "stdout",
     "output_type": "stream",
     "text": [
      "50\n"
     ]
    }
   ],
   "source": [
    "x=10\n",
    "y=30\n",
    "print(X)"
   ]
  },
  {
   "cell_type": "code",
   "execution_count": 26,
   "id": "348b2118",
   "metadata": {},
   "outputs": [],
   "source": [
    "Num = 10"
   ]
  },
  {
   "cell_type": "code",
   "execution_count": 27,
   "id": "10016766",
   "metadata": {},
   "outputs": [
    {
     "data": {
      "text/plain": [
       "10"
      ]
     },
     "execution_count": 27,
     "metadata": {},
     "output_type": "execute_result"
    }
   ],
   "source": [
    "Num"
   ]
  },
  {
   "cell_type": "code",
   "execution_count": 28,
   "id": "aa2bbd15",
   "metadata": {},
   "outputs": [],
   "source": [
    "x,y,z = 10, 40, 50"
   ]
  },
  {
   "cell_type": "code",
   "execution_count": 29,
   "id": "d4a038a9",
   "metadata": {},
   "outputs": [
    {
     "data": {
      "text/plain": [
       "10"
      ]
     },
     "execution_count": 29,
     "metadata": {},
     "output_type": "execute_result"
    }
   ],
   "source": [
    "x"
   ]
  },
  {
   "cell_type": "code",
   "execution_count": 30,
   "id": "67ec6ca4",
   "metadata": {},
   "outputs": [
    {
     "data": {
      "text/plain": [
       "40"
      ]
     },
     "execution_count": 30,
     "metadata": {},
     "output_type": "execute_result"
    }
   ],
   "source": [
    "y"
   ]
  },
  {
   "cell_type": "code",
   "execution_count": 31,
   "id": "73184c7b",
   "metadata": {},
   "outputs": [
    {
     "data": {
      "text/plain": [
       "50"
      ]
     },
     "execution_count": 31,
     "metadata": {},
     "output_type": "execute_result"
    }
   ],
   "source": [
    "z"
   ]
  },
  {
   "cell_type": "code",
   "execution_count": 33,
   "id": "67dfe865",
   "metadata": {},
   "outputs": [],
   "source": [
    "x,y,z = 10, 40, 50"
   ]
  },
  {
   "cell_type": "markdown",
   "id": "61f28bd0",
   "metadata": {},
   "source": [
    "Multi Word Variable Name\n",
    "1. camelCaseVar\n",
    "2. PascalCaseVar\n",
    "3. snake_case_var\n"
   ]
  },
  {
   "cell_type": "code",
   "execution_count": 34,
   "id": "0bf028e9",
   "metadata": {},
   "outputs": [],
   "source": [
    "student_name = ['a', 'b','c']"
   ]
  },
  {
   "cell_type": "code",
   "execution_count": 35,
   "id": "0df96769",
   "metadata": {},
   "outputs": [
    {
     "data": {
      "text/plain": [
       "['a', 'b', 'c']"
      ]
     },
     "execution_count": 35,
     "metadata": {},
     "output_type": "execute_result"
    }
   ],
   "source": [
    "student_name"
   ]
  },
  {
   "cell_type": "code",
   "execution_count": 36,
   "id": "ae0cae56",
   "metadata": {},
   "outputs": [
    {
     "data": {
      "text/plain": [
       "['a', 'b', 'c']"
      ]
     },
     "execution_count": 36,
     "metadata": {},
     "output_type": "execute_result"
    }
   ],
   "source": [
    "StudentName = ['a', 'b','c']\n",
    "StudentName"
   ]
  },
  {
   "cell_type": "code",
   "execution_count": 37,
   "id": "f6a161e8",
   "metadata": {},
   "outputs": [],
   "source": [
    "studentName = ['a', 'b','c']"
   ]
  },
  {
   "cell_type": "markdown",
   "id": "dc16fd25",
   "metadata": {},
   "source": [
    "# Global vs Local"
   ]
  },
  {
   "cell_type": "code",
   "execution_count": 1,
   "id": "5fb13cc5",
   "metadata": {},
   "outputs": [],
   "source": [
    "x = 100\n",
    "def sum_func():\n",
    "    print(x+x)"
   ]
  },
  {
   "cell_type": "code",
   "execution_count": 43,
   "id": "adc25461",
   "metadata": {},
   "outputs": [
    {
     "name": "stdout",
     "output_type": "stream",
     "text": [
      "90\n"
     ]
    }
   ],
   "source": [
    "sum_func()"
   ]
  },
  {
   "cell_type": "code",
   "execution_count": 6,
   "id": "2293a7fa",
   "metadata": {},
   "outputs": [],
   "source": [
    "x = 100\n",
    "def sum_func():\n",
    "    d = 45\n",
    "    print(d+d)"
   ]
  },
  {
   "cell_type": "code",
   "execution_count": 7,
   "id": "5ad18905",
   "metadata": {},
   "outputs": [
    {
     "name": "stdout",
     "output_type": "stream",
     "text": [
      "90\n"
     ]
    }
   ],
   "source": [
    "sum_func()"
   ]
  },
  {
   "cell_type": "code",
   "execution_count": 8,
   "id": "d52b9dff",
   "metadata": {},
   "outputs": [
    {
     "ename": "NameError",
     "evalue": "name 'd' is not defined",
     "output_type": "error",
     "traceback": [
      "\u001b[1;31m---------------------------------------------------------------------------\u001b[0m",
      "\u001b[1;31mNameError\u001b[0m                                 Traceback (most recent call last)",
      "Cell \u001b[1;32mIn[8], line 1\u001b[0m\n\u001b[1;32m----> 1\u001b[0m \u001b[38;5;28mprint\u001b[39m(d)\n",
      "\u001b[1;31mNameError\u001b[0m: name 'd' is not defined"
     ]
    }
   ],
   "source": [
    "print(d)"
   ]
  },
  {
   "cell_type": "code",
   "execution_count": 9,
   "id": "63c379d6",
   "metadata": {},
   "outputs": [],
   "source": [
    "def sum_func():\n",
    "    global m\n",
    "    m = 45\n",
    "    print(m+m)"
   ]
  },
  {
   "cell_type": "code",
   "execution_count": 10,
   "id": "c694ecf0",
   "metadata": {},
   "outputs": [
    {
     "name": "stdout",
     "output_type": "stream",
     "text": [
      "90\n"
     ]
    }
   ],
   "source": [
    "sum_func()"
   ]
  },
  {
   "cell_type": "code",
   "execution_count": 12,
   "id": "d87823b5",
   "metadata": {},
   "outputs": [
    {
     "name": "stdout",
     "output_type": "stream",
     "text": [
      "90\n"
     ]
    }
   ],
   "source": [
    "print(m+m)"
   ]
  },
  {
   "cell_type": "markdown",
   "id": "4c1defc3",
   "metadata": {},
   "source": [
    "# String::::::::::::::"
   ]
  },
  {
   "cell_type": "code",
   "execution_count": 2,
   "id": "46f06dc8",
   "metadata": {},
   "outputs": [],
   "source": [
    "strings = 'set of char'"
   ]
  },
  {
   "cell_type": "code",
   "execution_count": 3,
   "id": "215b3353",
   "metadata": {},
   "outputs": [
    {
     "data": {
      "text/plain": [
       "'set of char'"
      ]
     },
     "execution_count": 3,
     "metadata": {},
     "output_type": "execute_result"
    }
   ],
   "source": [
    "strings"
   ]
  },
  {
   "cell_type": "code",
   "execution_count": 4,
   "id": "f8f5d35b",
   "metadata": {},
   "outputs": [
    {
     "data": {
      "text/plain": [
       "'s'"
      ]
     },
     "execution_count": 4,
     "metadata": {},
     "output_type": "execute_result"
    }
   ],
   "source": [
    "strings[0]"
   ]
  },
  {
   "cell_type": "code",
   "execution_count": 5,
   "id": "e97281ea",
   "metadata": {},
   "outputs": [
    {
     "data": {
      "text/plain": [
       "'e'"
      ]
     },
     "execution_count": 5,
     "metadata": {},
     "output_type": "execute_result"
    }
   ],
   "source": [
    "strings[1]"
   ]
  },
  {
   "cell_type": "code",
   "execution_count": 6,
   "id": "0269596a",
   "metadata": {},
   "outputs": [
    {
     "data": {
      "text/plain": [
       "11"
      ]
     },
     "execution_count": 6,
     "metadata": {},
     "output_type": "execute_result"
    }
   ],
   "source": [
    "len(strings)"
   ]
  },
  {
   "cell_type": "code",
   "execution_count": 7,
   "id": "a0a4a02a",
   "metadata": {},
   "outputs": [
    {
     "data": {
      "text/plain": [
       "'r'"
      ]
     },
     "execution_count": 7,
     "metadata": {},
     "output_type": "execute_result"
    }
   ],
   "source": [
    "strings[-1]"
   ]
  },
  {
   "cell_type": "code",
   "execution_count": 8,
   "id": "d31a8633",
   "metadata": {},
   "outputs": [
    {
     "data": {
      "text/plain": [
       "'a'"
      ]
     },
     "execution_count": 8,
     "metadata": {},
     "output_type": "execute_result"
    }
   ],
   "source": [
    "strings[-2]"
   ]
  },
  {
   "cell_type": "code",
   "execution_count": 60,
   "id": "3474300f",
   "metadata": {},
   "outputs": [
    {
     "data": {
      "text/plain": [
       "' of '"
      ]
     },
     "execution_count": 60,
     "metadata": {},
     "output_type": "execute_result"
    }
   ],
   "source": [
    "strings[3:7]"
   ]
  },
  {
   "cell_type": "code",
   "execution_count": 19,
   "id": "ea1ab2fb",
   "metadata": {},
   "outputs": [
    {
     "data": {
      "text/plain": [
       "'SET OF CHAR'"
      ]
     },
     "execution_count": 19,
     "metadata": {},
     "output_type": "execute_result"
    }
   ],
   "source": [
    "strings.upper()"
   ]
  },
  {
   "cell_type": "code",
   "execution_count": 20,
   "id": "47daf851",
   "metadata": {},
   "outputs": [
    {
     "data": {
      "text/plain": [
       "'set of char'"
      ]
     },
     "execution_count": 20,
     "metadata": {},
     "output_type": "execute_result"
    }
   ],
   "source": [
    "strings.lower()"
   ]
  },
  {
   "cell_type": "code",
   "execution_count": 21,
   "id": "9d20ac32",
   "metadata": {},
   "outputs": [
    {
     "data": {
      "text/plain": [
       "'Set of char'"
      ]
     },
     "execution_count": 21,
     "metadata": {},
     "output_type": "execute_result"
    }
   ],
   "source": [
    "strings.capitalize()"
   ]
  },
  {
   "cell_type": "code",
   "execution_count": 22,
   "id": "22f16923",
   "metadata": {},
   "outputs": [
    {
     "data": {
      "text/plain": [
       "'SET OF CHAR'"
      ]
     },
     "execution_count": 22,
     "metadata": {},
     "output_type": "execute_result"
    }
   ],
   "source": [
    "strings.swapcase()"
   ]
  },
  {
   "cell_type": "code",
   "execution_count": 31,
   "id": "5d5fb05b",
   "metadata": {},
   "outputs": [
    {
     "data": {
      "text/plain": [
       "'set of char'"
      ]
     },
     "execution_count": 31,
     "metadata": {},
     "output_type": "execute_result"
    }
   ],
   "source": [
    "strings"
   ]
  },
  {
   "cell_type": "code",
   "execution_count": 23,
   "id": "2288ad1d",
   "metadata": {},
   "outputs": [
    {
     "data": {
      "text/plain": [
       "'Set Of Char'"
      ]
     },
     "execution_count": 23,
     "metadata": {},
     "output_type": "execute_result"
    }
   ],
   "source": [
    "strings.title()"
   ]
  },
  {
   "cell_type": "code",
   "execution_count": 33,
   "id": "99639196",
   "metadata": {},
   "outputs": [
    {
     "data": {
      "text/plain": [
       "False"
      ]
     },
     "execution_count": 33,
     "metadata": {},
     "output_type": "execute_result"
    }
   ],
   "source": [
    "strings.isupper()"
   ]
  },
  {
   "cell_type": "code",
   "execution_count": 34,
   "id": "a3fcc64b",
   "metadata": {},
   "outputs": [
    {
     "data": {
      "text/plain": [
       "True"
      ]
     },
     "execution_count": 34,
     "metadata": {},
     "output_type": "execute_result"
    }
   ],
   "source": [
    "strings.islower()"
   ]
  },
  {
   "cell_type": "code",
   "execution_count": 24,
   "id": "37f83c9c",
   "metadata": {},
   "outputs": [
    {
     "data": {
      "text/plain": [
       "['set', 'of', 'char']"
      ]
     },
     "execution_count": 24,
     "metadata": {},
     "output_type": "execute_result"
    }
   ],
   "source": [
    "strings.split()"
   ]
  },
  {
   "cell_type": "markdown",
   "id": "bbc16f49",
   "metadata": {},
   "source": [
    "# Split Formating::::::::::::"
   ]
  },
  {
   "cell_type": "code",
   "execution_count": 9,
   "id": "fa0bc11a",
   "metadata": {},
   "outputs": [
    {
     "name": "stdout",
     "output_type": "stream",
     "text": [
      "100 kg rice price is 2000 taka\n"
     ]
    }
   ],
   "source": [
    "x = 100\n",
    "y = 2000\n",
    "#100 kg rice price is 2000 taka\n",
    "print('{} kg rice price is {} taka'.format(x,y))"
   ]
  },
  {
   "cell_type": "code",
   "execution_count": 10,
   "id": "4ecb79c7",
   "metadata": {},
   "outputs": [
    {
     "name": "stdout",
     "output_type": "stream",
     "text": [
      "2000 kg rice price is 100 taka\n"
     ]
    }
   ],
   "source": [
    "x = 100\n",
    "y = 2000\n",
    "#100 kg rice price is 2000 taka\n",
    "print('{1} kg rice price is {0} taka'.format(x,y))"
   ]
  },
  {
   "cell_type": "markdown",
   "id": "652ae658",
   "metadata": {},
   "source": [
    "# Conditional Statements"
   ]
  },
  {
   "cell_type": "markdown",
   "id": "e7a20e08",
   "metadata": {},
   "source": [
    "Python supports the usual logical conditions from mathematics: \n",
    "\n",
    "1. Equals: a == b \n",
    "2. Not Equals: a != b \n",
    "3. Greater than a > b \n",
    "4. Greater than or equal to a >= b\n",
    "5. Less than a < b \n",
    "6. Less than or equal to a <= b \n"
   ]
  },
  {
   "cell_type": "code",
   "execution_count": 11,
   "id": "034da1e6",
   "metadata": {},
   "outputs": [
    {
     "name": "stdout",
     "output_type": "stream",
     "text": [
      "y is gr. than x\n"
     ]
    }
   ],
   "source": [
    "x = 500\n",
    "y = 800\n",
    "\n",
    "if x>y:\n",
    "    print('x is gr. than y')\n",
    "else:\n",
    "    print('y is gr. than x')"
   ]
  },
  {
   "cell_type": "code",
   "execution_count": 12,
   "id": "180fe799",
   "metadata": {},
   "outputs": [],
   "source": [
    "x = 50\n",
    "y = 50"
   ]
  },
  {
   "cell_type": "code",
   "execution_count": 49,
   "id": "5e827c92",
   "metadata": {},
   "outputs": [
    {
     "name": "stdout",
     "output_type": "stream",
     "text": [
      "odd\n"
     ]
    }
   ],
   "source": [
    "if x>y:\n",
    "    print('x is gr. than y')\n",
    "    \n",
    "elif x==y:\n",
    "    if x%2 == 1:\n",
    "        print('even')\n",
    "    else:\n",
    "        print('odd')\n",
    "    \n",
    "else:\n",
    "    print('y is gr. than x')"
   ]
  },
  {
   "cell_type": "code",
   "execution_count": 79,
   "id": "83472c86",
   "metadata": {},
   "outputs": [
    {
     "name": "stdout",
     "output_type": "stream",
     "text": [
      "X num = 10\n",
      "Y num = 5\n",
      "Z num = 1\n",
      "x is greater\n"
     ]
    }
   ],
   "source": [
    "#take the integer num from user and print the max value\n",
    "x = int(input('X num = '))\n",
    "y = int(input('Y num = '))\n",
    "z = int(input('Z num = '))\n",
    "\n",
    "if x>y and x>z:\n",
    "    print('x is greater')\n",
    "    \n",
    "elif y>x and y>z:\n",
    "    print('y is greater')\n",
    "    \n",
    "else:\n",
    "    print('z is greater')"
   ]
  },
  {
   "cell_type": "markdown",
   "id": "a4acdcf3",
   "metadata": {},
   "source": [
    "# Loops"
   ]
  },
  {
   "cell_type": "code",
   "execution_count": 80,
   "id": "8154d064",
   "metadata": {},
   "outputs": [
    {
     "name": "stdout",
     "output_type": "stream",
     "text": [
      "1\n",
      "2\n",
      "3\n",
      "4\n",
      "5\n",
      "6\n",
      "7\n",
      "8\n",
      "9\n"
     ]
    }
   ],
   "source": [
    "for i in range(1,10):  #end = n-1\n",
    "    print(i)\n",
    "                            "
   ]
  },
  {
   "cell_type": "code",
   "execution_count": 81,
   "id": "0f2734e4",
   "metadata": {},
   "outputs": [
    {
     "data": {
      "text/plain": [
       "'set of char'"
      ]
     },
     "execution_count": 81,
     "metadata": {},
     "output_type": "execute_result"
    }
   ],
   "source": [
    "strings"
   ]
  },
  {
   "cell_type": "code",
   "execution_count": 82,
   "id": "6ab3648f",
   "metadata": {},
   "outputs": [
    {
     "name": "stdout",
     "output_type": "stream",
     "text": [
      "s\n",
      "e\n",
      "t\n",
      " \n",
      "o\n",
      "f\n",
      " \n",
      "c\n",
      "h\n",
      "a\n",
      "r\n"
     ]
    }
   ],
   "source": [
    "for i in strings:\n",
    "    print(i)"
   ]
  },
  {
   "cell_type": "code",
   "execution_count": 84,
   "id": "d8004ebe",
   "metadata": {},
   "outputs": [
    {
     "name": "stdout",
     "output_type": "stream",
     "text": [
      "1 data science\n",
      "3 data science\n",
      "5 data science\n",
      "7 data science\n",
      "9 data science\n",
      "11 data science\n",
      "13 data science\n",
      "15 data science\n",
      "17 data science\n",
      "19 data science\n"
     ]
    }
   ],
   "source": [
    "for i in range(1, 20, 2):\n",
    "    print(i,'data science')"
   ]
  },
  {
   "cell_type": "code",
   "execution_count": 85,
   "id": "87d93834",
   "metadata": {},
   "outputs": [
    {
     "name": "stdout",
     "output_type": "stream",
     "text": [
      "20 data science\n",
      "18 data science\n",
      "16 data science\n",
      "14 data science\n",
      "12 data science\n",
      "10 data science\n",
      "8 data science\n",
      "6 data science\n",
      "4 data science\n",
      "2 data science\n"
     ]
    }
   ],
   "source": [
    "for i in range(20, 1, -2):\n",
    "    print(i,'data science')"
   ]
  },
  {
   "cell_type": "code",
   "execution_count": 86,
   "id": "68c48d8f",
   "metadata": {},
   "outputs": [],
   "source": [
    "n = [1,2,3,4,5,56]\n",
    "total = 0\n",
    "for i in n:\n",
    "    total = total+i"
   ]
  },
  {
   "cell_type": "code",
   "execution_count": 87,
   "id": "4b13f0cd",
   "metadata": {},
   "outputs": [
    {
     "name": "stdout",
     "output_type": "stream",
     "text": [
      "71\n"
     ]
    }
   ],
   "source": [
    "print(total)"
   ]
  },
  {
   "cell_type": "code",
   "execution_count": 89,
   "id": "fa7d1d0a",
   "metadata": {},
   "outputs": [
    {
     "name": "stdout",
     "output_type": "stream",
     "text": [
      "1\n",
      "3\n",
      "6\n",
      "10\n",
      "15\n",
      "71\n",
      "Final =  71\n"
     ]
    }
   ],
   "source": [
    "n = [1,2,3,4,5,56]\n",
    "total = 0\n",
    "for i in n:\n",
    "    total = total+i\n",
    "    print(total)\n",
    "print('Final = ',total)"
   ]
  },
  {
   "cell_type": "markdown",
   "id": "097562ec",
   "metadata": {},
   "source": [
    "# While"
   ]
  },
  {
   "cell_type": "code",
   "execution_count": 90,
   "id": "55526826",
   "metadata": {},
   "outputs": [
    {
     "name": "stdout",
     "output_type": "stream",
     "text": [
      "1 data science\n",
      "3 data science\n",
      "5 data science\n",
      "7 data science\n",
      "9 data science\n",
      "11 data science\n",
      "13 data science\n",
      "15 data science\n",
      "17 data science\n",
      "19 data science\n"
     ]
    }
   ],
   "source": [
    "for i in range(1, 20, 2):\n",
    "    print(i,'data science')\n",
    "    "
   ]
  },
  {
   "cell_type": "code",
   "execution_count": 91,
   "id": "dac49bdf",
   "metadata": {},
   "outputs": [
    {
     "name": "stdout",
     "output_type": "stream",
     "text": [
      "1 data science\n",
      "3 data science\n",
      "5 data science\n",
      "7 data science\n",
      "9 data science\n",
      "11 data science\n",
      "13 data science\n",
      "15 data science\n",
      "17 data science\n",
      "19 data science\n"
     ]
    }
   ],
   "source": [
    "i = 1\n",
    "while i <= 20:\n",
    "    print(i,'data science')\n",
    "    i = i + 2"
   ]
  },
  {
   "cell_type": "code",
   "execution_count": 92,
   "id": "b1ee5afb",
   "metadata": {},
   "outputs": [
    {
     "name": "stdout",
     "output_type": "stream",
     "text": [
      "arif\n",
      "abdullah\n",
      "hasib\n"
     ]
    }
   ],
   "source": [
    "name = ['arif','abdullah', 'hasib']\n",
    "\n",
    "i = 0\n",
    "\n",
    "while i< len(name):\n",
    "    print(name[i])\n",
    "    i += 1"
   ]
  },
  {
   "cell_type": "code",
   "execution_count": 93,
   "id": "982a2fa1",
   "metadata": {},
   "outputs": [
    {
     "data": {
      "text/plain": [
       "'abdullah'"
      ]
     },
     "execution_count": 93,
     "metadata": {},
     "output_type": "execute_result"
    }
   ],
   "source": [
    "name[1]"
   ]
  },
  {
   "cell_type": "code",
   "execution_count": 94,
   "id": "a10f2234",
   "metadata": {},
   "outputs": [
    {
     "data": {
      "text/plain": [
       "'hasib'"
      ]
     },
     "execution_count": 94,
     "metadata": {},
     "output_type": "execute_result"
    }
   ],
   "source": [
    "name[2]"
   ]
  },
  {
   "cell_type": "code",
   "execution_count": 95,
   "id": "08ffa93e",
   "metadata": {},
   "outputs": [
    {
     "name": "stdout",
     "output_type": "stream",
     "text": [
      "arif\n",
      "abdullah\n",
      "hasib\n"
     ]
    }
   ],
   "source": [
    "for i in name:\n",
    "    print(i)"
   ]
  },
  {
   "cell_type": "code",
   "execution_count": null,
   "id": "895c780b",
   "metadata": {},
   "outputs": [],
   "source": []
  }
 ],
 "metadata": {
  "kernelspec": {
   "display_name": "Python 3 (ipykernel)",
   "language": "python",
   "name": "python3"
  },
  "language_info": {
   "codemirror_mode": {
    "name": "ipython",
    "version": 3
   },
   "file_extension": ".py",
   "mimetype": "text/x-python",
   "name": "python",
   "nbconvert_exporter": "python",
   "pygments_lexer": "ipython3",
   "version": "3.11.5"
  }
 },
 "nbformat": 4,
 "nbformat_minor": 5
}
